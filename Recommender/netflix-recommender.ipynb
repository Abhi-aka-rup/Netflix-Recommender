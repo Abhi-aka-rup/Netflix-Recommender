{
 "cells": [
  {
   "attachments": {},
   "cell_type": "markdown",
   "metadata": {},
   "source": [
    "## Content Based Recommender"
   ]
  },
  {
   "cell_type": "code",
   "execution_count": 761,
   "metadata": {},
   "outputs": [
    {
     "name": "stderr",
     "output_type": "stream",
     "text": [
      "[nltk_data] Downloading package stopwords to\n",
      "[nltk_data]     C:\\Users\\abdas\\AppData\\Roaming\\nltk_data...\n",
      "[nltk_data]   Package stopwords is already up-to-date!\n",
      "[nltk_data] Downloading package punkt to\n",
      "[nltk_data]     C:\\Users\\abdas\\AppData\\Roaming\\nltk_data...\n",
      "[nltk_data]   Package punkt is already up-to-date!\n",
      "[nltk_data] Downloading package wordnet to\n",
      "[nltk_data]     C:\\Users\\abdas\\AppData\\Roaming\\nltk_data...\n",
      "[nltk_data]   Package wordnet is already up-to-date!\n"
     ]
    }
   ],
   "source": [
    "import numpy as np\n",
    "import pandas as pd\n",
    "\n",
    "import re\n",
    "import string\n",
    "\n",
    "import nltk\n",
    "from rake_nltk import Rake #for extracting significant keywords in the entire text available.\n",
    "from nltk.corpus import stopwords\n",
    "from nltk.stem import SnowballStemmer\n",
    "from nltk.stem import WordNetLemmatizer\n",
    "nltk.download('stopwords')\n",
    "nltk.download('punkt')\n",
    "nltk.download('wordnet')\n",
    "\n",
    "from sklearn.feature_extraction.text import TfidfVectorizer\n",
    "from sklearn.metrics.pairwise import cosine_similarity\n",
    "from sklearn.neighbors import NearestNeighbors\n",
    "\n",
    "import matplotlib.pyplot as plt\n",
    "%matplotlib inline"
   ]
  },
  {
   "cell_type": "code",
   "execution_count": 762,
   "metadata": {},
   "outputs": [
    {
     "data": {
      "text/html": [
       "<div>\n",
       "<style scoped>\n",
       "    .dataframe tbody tr th:only-of-type {\n",
       "        vertical-align: middle;\n",
       "    }\n",
       "\n",
       "    .dataframe tbody tr th {\n",
       "        vertical-align: top;\n",
       "    }\n",
       "\n",
       "    .dataframe thead th {\n",
       "        text-align: right;\n",
       "    }\n",
       "</style>\n",
       "<table border=\"1\" class=\"dataframe\">\n",
       "  <thead>\n",
       "    <tr style=\"text-align: right;\">\n",
       "      <th></th>\n",
       "      <th>Unnamed: 0</th>\n",
       "      <th>Title</th>\n",
       "      <th>Year</th>\n",
       "      <th>Rated</th>\n",
       "      <th>Released</th>\n",
       "      <th>Runtime</th>\n",
       "      <th>Genre</th>\n",
       "      <th>Director</th>\n",
       "      <th>Writer</th>\n",
       "      <th>Actors</th>\n",
       "      <th>...</th>\n",
       "      <th>tomatoConsensus</th>\n",
       "      <th>tomatoUserMeter</th>\n",
       "      <th>tomatoUserRating</th>\n",
       "      <th>tomatoUserReviews</th>\n",
       "      <th>tomatoURL</th>\n",
       "      <th>DVD</th>\n",
       "      <th>BoxOffice</th>\n",
       "      <th>Production</th>\n",
       "      <th>Website</th>\n",
       "      <th>Response</th>\n",
       "    </tr>\n",
       "  </thead>\n",
       "  <tbody>\n",
       "    <tr>\n",
       "      <th>245</th>\n",
       "      <td>246</td>\n",
       "      <td>The Lost Weekend</td>\n",
       "      <td>1945</td>\n",
       "      <td>NOT RATED</td>\n",
       "      <td>01 Jan 1946</td>\n",
       "      <td>101 min</td>\n",
       "      <td>Drama, Film-Noir</td>\n",
       "      <td>Billy Wilder</td>\n",
       "      <td>Charles R. Jackson (from the novel by), Charle...</td>\n",
       "      <td>Ray Milland, Jane Wyman, Phillip Terry, Howard...</td>\n",
       "      <td>...</td>\n",
       "      <td>NaN</td>\n",
       "      <td>NaN</td>\n",
       "      <td>NaN</td>\n",
       "      <td>NaN</td>\n",
       "      <td>http://www.rottentomatoes.com/m/lost_weekend/</td>\n",
       "      <td>06 Feb 2001</td>\n",
       "      <td>NaN</td>\n",
       "      <td>Paramount Pictures</td>\n",
       "      <td>NaN</td>\n",
       "      <td>True</td>\n",
       "    </tr>\n",
       "    <tr>\n",
       "      <th>246</th>\n",
       "      <td>247</td>\n",
       "      <td>Short Term 12</td>\n",
       "      <td>2013</td>\n",
       "      <td>R</td>\n",
       "      <td>23 Aug 2013</td>\n",
       "      <td>96 min</td>\n",
       "      <td>Drama</td>\n",
       "      <td>Destin Daniel Cretton</td>\n",
       "      <td>Destin Daniel Cretton</td>\n",
       "      <td>Brie Larson, John Gallagher Jr., Stephanie Bea...</td>\n",
       "      <td>...</td>\n",
       "      <td>NaN</td>\n",
       "      <td>NaN</td>\n",
       "      <td>NaN</td>\n",
       "      <td>NaN</td>\n",
       "      <td>http://www.rottentomatoes.com/m/short_term_12_...</td>\n",
       "      <td>14 Jan 2014</td>\n",
       "      <td>NaN</td>\n",
       "      <td>Cinedigm</td>\n",
       "      <td>http://shortterm12.com</td>\n",
       "      <td>True</td>\n",
       "    </tr>\n",
       "    <tr>\n",
       "      <th>247</th>\n",
       "      <td>248</td>\n",
       "      <td>His Girl Friday</td>\n",
       "      <td>1940</td>\n",
       "      <td>APPROVED</td>\n",
       "      <td>18 Jan 1940</td>\n",
       "      <td>92 min</td>\n",
       "      <td>Comedy, Drama, Romance</td>\n",
       "      <td>Howard Hawks</td>\n",
       "      <td>Charles Lederer (screen play), Ben Hecht (from...</td>\n",
       "      <td>Cary Grant, Rosalind Russell, Ralph Bellamy, G...</td>\n",
       "      <td>...</td>\n",
       "      <td>NaN</td>\n",
       "      <td>NaN</td>\n",
       "      <td>NaN</td>\n",
       "      <td>NaN</td>\n",
       "      <td>http://www.rottentomatoes.com/m/his_girl_friday/</td>\n",
       "      <td>28 Dec 2004</td>\n",
       "      <td>NaN</td>\n",
       "      <td>Columbia Pictures</td>\n",
       "      <td>NaN</td>\n",
       "      <td>True</td>\n",
       "    </tr>\n",
       "    <tr>\n",
       "      <th>248</th>\n",
       "      <td>249</td>\n",
       "      <td>The Straight Story</td>\n",
       "      <td>1999</td>\n",
       "      <td>G</td>\n",
       "      <td>03 Nov 1999</td>\n",
       "      <td>112 min</td>\n",
       "      <td>Biography, Drama</td>\n",
       "      <td>David Lynch</td>\n",
       "      <td>John Roach, Mary Sweeney</td>\n",
       "      <td>Sissy Spacek, Jane Galloway Heitz, Joseph A. C...</td>\n",
       "      <td>...</td>\n",
       "      <td>NaN</td>\n",
       "      <td>NaN</td>\n",
       "      <td>NaN</td>\n",
       "      <td>NaN</td>\n",
       "      <td>http://www.rottentomatoes.com/m/straight_story/</td>\n",
       "      <td>07 Nov 2000</td>\n",
       "      <td>NaN</td>\n",
       "      <td>Buena Vista Pictures</td>\n",
       "      <td>http://disney.go.com/DisneyPictures/straightst...</td>\n",
       "      <td>True</td>\n",
       "    </tr>\n",
       "    <tr>\n",
       "      <th>249</th>\n",
       "      <td>250</td>\n",
       "      <td>Slumdog Millionaire</td>\n",
       "      <td>2008</td>\n",
       "      <td>R</td>\n",
       "      <td>25 Dec 2008</td>\n",
       "      <td>120 min</td>\n",
       "      <td>Drama</td>\n",
       "      <td>Danny Boyle, Loveleen Tandan</td>\n",
       "      <td>Simon Beaufoy (screenplay), Vikas Swarup (novel)</td>\n",
       "      <td>Dev Patel, Saurabh Shukla, Anil Kapoor, Raj Zu...</td>\n",
       "      <td>...</td>\n",
       "      <td>NaN</td>\n",
       "      <td>NaN</td>\n",
       "      <td>NaN</td>\n",
       "      <td>NaN</td>\n",
       "      <td>http://www.rottentomatoes.com/m/slumdog_millio...</td>\n",
       "      <td>31 Mar 2009</td>\n",
       "      <td>$141,243,551</td>\n",
       "      <td>Fox Searchlight Pictures</td>\n",
       "      <td>http://www.foxsearchlight.com/slumdogmillionaire/</td>\n",
       "      <td>True</td>\n",
       "    </tr>\n",
       "  </tbody>\n",
       "</table>\n",
       "<p>5 rows × 38 columns</p>\n",
       "</div>"
      ],
      "text/plain": [
       "     Unnamed: 0                Title  Year      Rated     Released  Runtime  \\\n",
       "245         246     The Lost Weekend  1945  NOT RATED  01 Jan 1946  101 min   \n",
       "246         247        Short Term 12  2013          R  23 Aug 2013   96 min   \n",
       "247         248      His Girl Friday  1940   APPROVED  18 Jan 1940   92 min   \n",
       "248         249   The Straight Story  1999          G  03 Nov 1999  112 min   \n",
       "249         250  Slumdog Millionaire  2008          R  25 Dec 2008  120 min   \n",
       "\n",
       "                      Genre                      Director  \\\n",
       "245        Drama, Film-Noir                  Billy Wilder   \n",
       "246                   Drama         Destin Daniel Cretton   \n",
       "247  Comedy, Drama, Romance                  Howard Hawks   \n",
       "248        Biography, Drama                   David Lynch   \n",
       "249                   Drama  Danny Boyle, Loveleen Tandan   \n",
       "\n",
       "                                                Writer  \\\n",
       "245  Charles R. Jackson (from the novel by), Charle...   \n",
       "246                              Destin Daniel Cretton   \n",
       "247  Charles Lederer (screen play), Ben Hecht (from...   \n",
       "248                           John Roach, Mary Sweeney   \n",
       "249   Simon Beaufoy (screenplay), Vikas Swarup (novel)   \n",
       "\n",
       "                                                Actors  ... tomatoConsensus  \\\n",
       "245  Ray Milland, Jane Wyman, Phillip Terry, Howard...  ...             NaN   \n",
       "246  Brie Larson, John Gallagher Jr., Stephanie Bea...  ...             NaN   \n",
       "247  Cary Grant, Rosalind Russell, Ralph Bellamy, G...  ...             NaN   \n",
       "248  Sissy Spacek, Jane Galloway Heitz, Joseph A. C...  ...             NaN   \n",
       "249  Dev Patel, Saurabh Shukla, Anil Kapoor, Raj Zu...  ...             NaN   \n",
       "\n",
       "    tomatoUserMeter tomatoUserRating tomatoUserReviews  \\\n",
       "245             NaN              NaN               NaN   \n",
       "246             NaN              NaN               NaN   \n",
       "247             NaN              NaN               NaN   \n",
       "248             NaN              NaN               NaN   \n",
       "249             NaN              NaN               NaN   \n",
       "\n",
       "                                             tomatoURL          DVD  \\\n",
       "245      http://www.rottentomatoes.com/m/lost_weekend/  06 Feb 2001   \n",
       "246  http://www.rottentomatoes.com/m/short_term_12_...  14 Jan 2014   \n",
       "247   http://www.rottentomatoes.com/m/his_girl_friday/  28 Dec 2004   \n",
       "248    http://www.rottentomatoes.com/m/straight_story/  07 Nov 2000   \n",
       "249  http://www.rottentomatoes.com/m/slumdog_millio...  31 Mar 2009   \n",
       "\n",
       "        BoxOffice                Production  \\\n",
       "245           NaN        Paramount Pictures   \n",
       "246           NaN                  Cinedigm   \n",
       "247           NaN         Columbia Pictures   \n",
       "248           NaN      Buena Vista Pictures   \n",
       "249  $141,243,551  Fox Searchlight Pictures   \n",
       "\n",
       "                                               Website Response  \n",
       "245                                                NaN     True  \n",
       "246                             http://shortterm12.com     True  \n",
       "247                                                NaN     True  \n",
       "248  http://disney.go.com/DisneyPictures/straightst...     True  \n",
       "249  http://www.foxsearchlight.com/slumdogmillionaire/     True  \n",
       "\n",
       "[5 rows x 38 columns]"
      ]
     },
     "execution_count": 762,
     "metadata": {},
     "output_type": "execute_result"
    }
   ],
   "source": [
    "netflixData = pd.read_csv('data/netflix dataset.csv')\n",
    "netflixData.tail()"
   ]
  },
  {
   "cell_type": "code",
   "execution_count": 763,
   "metadata": {},
   "outputs": [
    {
     "data": {
      "text/plain": [
       "Index(['Unnamed: 0', 'Title', 'Year', 'Rated', 'Released', 'Runtime', 'Genre',\n",
       "       'Director', 'Writer', 'Actors', 'Plot', 'Language', 'Country', 'Awards',\n",
       "       'Poster', 'Ratings.Source', 'Ratings.Value', 'Metascore', 'imdbRating',\n",
       "       'imdbVotes', 'imdbID', 'Type', 'tomatoMeter', 'tomatoImage',\n",
       "       'tomatoRating', 'tomatoReviews', 'tomatoFresh', 'tomatoRotten',\n",
       "       'tomatoConsensus', 'tomatoUserMeter', 'tomatoUserRating',\n",
       "       'tomatoUserReviews', 'tomatoURL', 'DVD', 'BoxOffice', 'Production',\n",
       "       'Website', 'Response'],\n",
       "      dtype='object')"
      ]
     },
     "execution_count": 763,
     "metadata": {},
     "output_type": "execute_result"
    }
   ],
   "source": [
    "netflixData.columns"
   ]
  },
  {
   "cell_type": "code",
   "execution_count": 764,
   "metadata": {},
   "outputs": [
    {
     "data": {
      "text/html": [
       "<div>\n",
       "<style scoped>\n",
       "    .dataframe tbody tr th:only-of-type {\n",
       "        vertical-align: middle;\n",
       "    }\n",
       "\n",
       "    .dataframe tbody tr th {\n",
       "        vertical-align: top;\n",
       "    }\n",
       "\n",
       "    .dataframe thead th {\n",
       "        text-align: right;\n",
       "    }\n",
       "</style>\n",
       "<table border=\"1\" class=\"dataframe\">\n",
       "  <thead>\n",
       "    <tr style=\"text-align: right;\">\n",
       "      <th></th>\n",
       "      <th>Title</th>\n",
       "      <th>Genre</th>\n",
       "      <th>Director</th>\n",
       "      <th>Actors</th>\n",
       "      <th>Plot</th>\n",
       "    </tr>\n",
       "  </thead>\n",
       "  <tbody>\n",
       "    <tr>\n",
       "      <th>0</th>\n",
       "      <td>The Shawshank Redemption</td>\n",
       "      <td>Crime, Drama</td>\n",
       "      <td>Frank Darabont</td>\n",
       "      <td>Tim Robbins, Morgan Freeman, Bob Gunton, Willi...</td>\n",
       "      <td>Two imprisoned men bond over a number of years...</td>\n",
       "    </tr>\n",
       "    <tr>\n",
       "      <th>1</th>\n",
       "      <td>The Godfather</td>\n",
       "      <td>Crime, Drama</td>\n",
       "      <td>Francis Ford Coppola</td>\n",
       "      <td>Marlon Brando, Al Pacino, James Caan, Richard ...</td>\n",
       "      <td>The aging patriarch of an organized crime dyna...</td>\n",
       "    </tr>\n",
       "    <tr>\n",
       "      <th>2</th>\n",
       "      <td>The Godfather: Part II</td>\n",
       "      <td>Crime, Drama</td>\n",
       "      <td>Francis Ford Coppola</td>\n",
       "      <td>Al Pacino, Robert Duvall, Diane Keaton, Robert...</td>\n",
       "      <td>The early life and career of Vito Corleone in ...</td>\n",
       "    </tr>\n",
       "    <tr>\n",
       "      <th>3</th>\n",
       "      <td>The Dark Knight</td>\n",
       "      <td>Action, Crime, Drama</td>\n",
       "      <td>Christopher Nolan</td>\n",
       "      <td>Christian Bale, Heath Ledger, Aaron Eckhart, M...</td>\n",
       "      <td>When the menace known as the Joker emerges fro...</td>\n",
       "    </tr>\n",
       "    <tr>\n",
       "      <th>4</th>\n",
       "      <td>12 Angry Men</td>\n",
       "      <td>Crime, Drama</td>\n",
       "      <td>Sidney Lumet</td>\n",
       "      <td>Martin Balsam, John Fiedler, Lee J. Cobb, E.G....</td>\n",
       "      <td>A jury holdout attempts to prevent a miscarria...</td>\n",
       "    </tr>\n",
       "  </tbody>\n",
       "</table>\n",
       "</div>"
      ],
      "text/plain": [
       "                      Title                 Genre              Director  \\\n",
       "0  The Shawshank Redemption          Crime, Drama        Frank Darabont   \n",
       "1             The Godfather          Crime, Drama  Francis Ford Coppola   \n",
       "2    The Godfather: Part II          Crime, Drama  Francis Ford Coppola   \n",
       "3           The Dark Knight  Action, Crime, Drama     Christopher Nolan   \n",
       "4              12 Angry Men          Crime, Drama          Sidney Lumet   \n",
       "\n",
       "                                              Actors  \\\n",
       "0  Tim Robbins, Morgan Freeman, Bob Gunton, Willi...   \n",
       "1  Marlon Brando, Al Pacino, James Caan, Richard ...   \n",
       "2  Al Pacino, Robert Duvall, Diane Keaton, Robert...   \n",
       "3  Christian Bale, Heath Ledger, Aaron Eckhart, M...   \n",
       "4  Martin Balsam, John Fiedler, Lee J. Cobb, E.G....   \n",
       "\n",
       "                                                Plot  \n",
       "0  Two imprisoned men bond over a number of years...  \n",
       "1  The aging patriarch of an organized crime dyna...  \n",
       "2  The early life and career of Vito Corleone in ...  \n",
       "3  When the menace known as the Joker emerges fro...  \n",
       "4  A jury holdout attempts to prevent a miscarria...  "
      ]
     },
     "execution_count": 764,
     "metadata": {},
     "output_type": "execute_result"
    }
   ],
   "source": [
    "netflixData = netflixData[['Title', 'Genre', 'Director', 'Actors', 'Plot']]\n",
    "netflixData.head()"
   ]
  },
  {
   "attachments": {},
   "cell_type": "markdown",
   "metadata": {},
   "source": [
    "## Cleaning Data"
   ]
  },
  {
   "cell_type": "code",
   "execution_count": 765,
   "metadata": {},
   "outputs": [
    {
     "data": {
      "text/plain": [
       "Title       0\n",
       "Genre       0\n",
       "Director    0\n",
       "Actors      0\n",
       "Plot        0\n",
       "dtype: int64"
      ]
     },
     "execution_count": 765,
     "metadata": {},
     "output_type": "execute_result"
    }
   ],
   "source": [
    "netflixData.isna().sum()"
   ]
  },
  {
   "attachments": {},
   "cell_type": "markdown",
   "metadata": {},
   "source": [
    "### PreProcessing Data\n",
    "##### To process and join the columns into a single bag of words to be used for cosine similarity"
   ]
  },
  {
   "cell_type": "code",
   "execution_count": 766,
   "metadata": {},
   "outputs": [],
   "source": [
    "def preprocess(data: pd.Series) -> pd.Series:\n",
    "    # Remove all non-alphanumeric characters from the string using regular expressions\n",
    "    data = data.map(lambda x: re.sub('[^0-9a-zA-Z,]+', '', x.lower()))\n",
    "\n",
    "    if data.str.contains(',').any():\n",
    "        data = data.map(lambda x: x.replace(',', ' '))\n",
    "    return data"
   ]
  },
  {
   "cell_type": "code",
   "execution_count": 767,
   "metadata": {},
   "outputs": [
    {
     "data": {
      "text/plain": [
       "0               crime drama\n",
       "1               crime drama\n",
       "2               crime drama\n",
       "3        action crime drama\n",
       "4               crime drama\n",
       "               ...         \n",
       "245          drama filmnoir\n",
       "246                   drama\n",
       "247    comedy drama romance\n",
       "248         biography drama\n",
       "249                   drama\n",
       "Name: Genre, Length: 250, dtype: object"
      ]
     },
     "execution_count": 767,
     "metadata": {},
     "output_type": "execute_result"
    }
   ],
   "source": [
    "netflixData['Genre'] = preprocess(netflixData['Genre'])\n",
    "netflixData['Genre']"
   ]
  },
  {
   "cell_type": "code",
   "execution_count": 768,
   "metadata": {},
   "outputs": [
    {
     "data": {
      "text/plain": [
       "0                  frankdarabont\n",
       "1             francisfordcoppola\n",
       "2             francisfordcoppola\n",
       "3               christophernolan\n",
       "4                    sidneylumet\n",
       "                 ...            \n",
       "245                  billywilder\n",
       "246          destindanielcretton\n",
       "247                  howardhawks\n",
       "248                   davidlynch\n",
       "249    dannyboyle loveleentandan\n",
       "Name: Director, Length: 250, dtype: object"
      ]
     },
     "execution_count": 768,
     "metadata": {},
     "output_type": "execute_result"
    }
   ],
   "source": [
    "netflixData['Director'] = preprocess(netflixData['Director'])\n",
    "netflixData['Director']"
   ]
  },
  {
   "cell_type": "code",
   "execution_count": 769,
   "metadata": {},
   "outputs": [
    {
     "data": {
      "text/plain": [
       "0       timrobbins morganfreeman bobgunton williamsadler\n",
       "1      marlonbrando alpacino jamescaan richardscastel...\n",
       "2         alpacino robertduvall dianekeaton robertdeniro\n",
       "3      christianbale heathledger aaroneckhart michael...\n",
       "4           martinbalsam johnfiedler leejcobb egmarshall\n",
       "                             ...                        \n",
       "245      raymilland janewyman phillipterry howarddasilva\n",
       "246    brielarson johngallagherjr stephaniebeatriz ra...\n",
       "247    carygrant rosalindrussell ralphbellamy geneloc...\n",
       "248    sissyspacek janegallowayheitz josephacarpenter...\n",
       "249          devpatel saurabhshukla anilkapoor rajzutshi\n",
       "Name: Actors, Length: 250, dtype: object"
      ]
     },
     "execution_count": 769,
     "metadata": {},
     "output_type": "execute_result"
    }
   ],
   "source": [
    "netflixData['Actors'] = preprocess(netflixData['Actors'])\n",
    "netflixData['Actors']"
   ]
  },
  {
   "cell_type": "code",
   "execution_count": 770,
   "metadata": {},
   "outputs": [],
   "source": [
    "def preprocessStemmer(words):\n",
    "    stemmer = SnowballStemmer(\"english\")\n",
    "    return [stemmer.stem(word) for word in words]\n",
    "    "
   ]
  },
  {
   "cell_type": "code",
   "execution_count": 771,
   "metadata": {},
   "outputs": [],
   "source": [
    "def preprocessLemmatisation(words):\n",
    "    lemmatizer = WordNetLemmatizer()\n",
    "    return [lemmatizer.lemmatize(word) for word in words]"
   ]
  },
  {
   "cell_type": "code",
   "execution_count": 772,
   "metadata": {},
   "outputs": [],
   "source": [
    "def removePunctuations(text):\n",
    "    translator = str.maketrans('', '', string.punctuation)\n",
    "    return text.translate(translator)"
   ]
  },
  {
   "cell_type": "code",
   "execution_count": 773,
   "metadata": {},
   "outputs": [],
   "source": [
    "def preProcessPlot(words):\n",
    "    words = preprocessStemmer(words)\n",
    "    words = preprocessLemmatisation(words)\n",
    "    return \" \".join(words)"
   ]
  },
  {
   "cell_type": "code",
   "execution_count": 774,
   "metadata": {},
   "outputs": [],
   "source": [
    "netflixData['Keywords_Plot'] = \"\"\n",
    "stop_words = set(stopwords.words('english'))\n",
    "\n",
    "for index, row in netflixData.iterrows():\n",
    "    plot = row['Plot']\n",
    "    plot = removePunctuations(plot)\n",
    "    \n",
    "    r = Rake(stopwords=stop_words)\n",
    "    r.extract_keywords_from_text(plot)\n",
    "    \n",
    "    key_words_dict_scores = r.get_word_degrees()\n",
    "    key_words_dict = list(key_words_dict_scores.keys())\n",
    "    key_plot = preProcessPlot(key_words_dict)\n",
    "\n",
    "    # key_phrase_dict = r.get_ranked_phrases()\n",
    "    # key_phrase_dict = \" \".join(key_phrase_dict).split()\n",
    "    # key_plot = preProcessPlot(key_phrase_dict)\n",
    "    \n",
    "    row['Keywords_Plot'] = key_plot\n",
    "    \n",
    "netflixData.drop(columns = ['Plot'], inplace=True)"
   ]
  },
  {
   "cell_type": "code",
   "execution_count": 775,
   "metadata": {},
   "outputs": [
    {
     "data": {
      "text/html": [
       "<div>\n",
       "<style scoped>\n",
       "    .dataframe tbody tr th:only-of-type {\n",
       "        vertical-align: middle;\n",
       "    }\n",
       "\n",
       "    .dataframe tbody tr th {\n",
       "        vertical-align: top;\n",
       "    }\n",
       "\n",
       "    .dataframe thead th {\n",
       "        text-align: right;\n",
       "    }\n",
       "</style>\n",
       "<table border=\"1\" class=\"dataframe\">\n",
       "  <thead>\n",
       "    <tr style=\"text-align: right;\">\n",
       "      <th></th>\n",
       "      <th>Title</th>\n",
       "      <th>Genre</th>\n",
       "      <th>Director</th>\n",
       "      <th>Actors</th>\n",
       "      <th>Keywords_Plot</th>\n",
       "    </tr>\n",
       "  </thead>\n",
       "  <tbody>\n",
       "    <tr>\n",
       "      <th>0</th>\n",
       "      <td>The Shawshank Redemption</td>\n",
       "      <td>crime drama</td>\n",
       "      <td>frankdarabont</td>\n",
       "      <td>timrobbins morganfreeman bobgunton williamsadler</td>\n",
       "      <td>two imprison men bond number year find solac e...</td>\n",
       "    </tr>\n",
       "    <tr>\n",
       "      <th>1</th>\n",
       "      <td>The Godfather</td>\n",
       "      <td>crime drama</td>\n",
       "      <td>francisfordcoppola</td>\n",
       "      <td>marlonbrando alpacino jamescaan richardscastel...</td>\n",
       "      <td>age patriarch organ crime dynasti transfer con...</td>\n",
       "    </tr>\n",
       "    <tr>\n",
       "      <th>2</th>\n",
       "      <td>The Godfather: Part II</td>\n",
       "      <td>crime drama</td>\n",
       "      <td>francisfordcoppola</td>\n",
       "      <td>alpacino robertduvall dianekeaton robertdeniro</td>\n",
       "      <td>earli life career vito corleon 1920s new york ...</td>\n",
       "    </tr>\n",
       "    <tr>\n",
       "      <th>3</th>\n",
       "      <td>The Dark Knight</td>\n",
       "      <td>action crime drama</td>\n",
       "      <td>christophernolan</td>\n",
       "      <td>christianbale heathledger aaroneckhart michael...</td>\n",
       "      <td>menac known joker emerg mysteri past wreak hav...</td>\n",
       "    </tr>\n",
       "    <tr>\n",
       "      <th>4</th>\n",
       "      <td>12 Angry Men</td>\n",
       "      <td>crime drama</td>\n",
       "      <td>sidneylumet</td>\n",
       "      <td>martinbalsam johnfiedler leejcobb egmarshall</td>\n",
       "      <td>juri holdout attempt prevent miscarriag justic...</td>\n",
       "    </tr>\n",
       "  </tbody>\n",
       "</table>\n",
       "</div>"
      ],
      "text/plain": [
       "                      Title               Genre            Director  \\\n",
       "0  The Shawshank Redemption         crime drama       frankdarabont   \n",
       "1             The Godfather         crime drama  francisfordcoppola   \n",
       "2    The Godfather: Part II         crime drama  francisfordcoppola   \n",
       "3           The Dark Knight  action crime drama    christophernolan   \n",
       "4              12 Angry Men         crime drama         sidneylumet   \n",
       "\n",
       "                                              Actors  \\\n",
       "0   timrobbins morganfreeman bobgunton williamsadler   \n",
       "1  marlonbrando alpacino jamescaan richardscastel...   \n",
       "2     alpacino robertduvall dianekeaton robertdeniro   \n",
       "3  christianbale heathledger aaroneckhart michael...   \n",
       "4       martinbalsam johnfiedler leejcobb egmarshall   \n",
       "\n",
       "                                       Keywords_Plot  \n",
       "0  two imprison men bond number year find solac e...  \n",
       "1  age patriarch organ crime dynasti transfer con...  \n",
       "2  earli life career vito corleon 1920s new york ...  \n",
       "3  menac known joker emerg mysteri past wreak hav...  \n",
       "4  juri holdout attempt prevent miscarriag justic...  "
      ]
     },
     "execution_count": 775,
     "metadata": {},
     "output_type": "execute_result"
    }
   ],
   "source": [
    "netflixData.head()"
   ]
  },
  {
   "cell_type": "code",
   "execution_count": 776,
   "metadata": {},
   "outputs": [
    {
     "data": {
      "text/html": [
       "<div>\n",
       "<style scoped>\n",
       "    .dataframe tbody tr th:only-of-type {\n",
       "        vertical-align: middle;\n",
       "    }\n",
       "\n",
       "    .dataframe tbody tr th {\n",
       "        vertical-align: top;\n",
       "    }\n",
       "\n",
       "    .dataframe thead th {\n",
       "        text-align: right;\n",
       "    }\n",
       "</style>\n",
       "<table border=\"1\" class=\"dataframe\">\n",
       "  <thead>\n",
       "    <tr style=\"text-align: right;\">\n",
       "      <th></th>\n",
       "      <th>Genre</th>\n",
       "      <th>Director</th>\n",
       "      <th>Actors</th>\n",
       "      <th>Keywords_Plot</th>\n",
       "    </tr>\n",
       "    <tr>\n",
       "      <th>Title</th>\n",
       "      <th></th>\n",
       "      <th></th>\n",
       "      <th></th>\n",
       "      <th></th>\n",
       "    </tr>\n",
       "  </thead>\n",
       "  <tbody>\n",
       "    <tr>\n",
       "      <th>The Shawshank Redemption</th>\n",
       "      <td>crime drama</td>\n",
       "      <td>frankdarabont</td>\n",
       "      <td>timrobbins morganfreeman bobgunton williamsadler</td>\n",
       "      <td>two imprison men bond number year find solac e...</td>\n",
       "    </tr>\n",
       "    <tr>\n",
       "      <th>The Godfather</th>\n",
       "      <td>crime drama</td>\n",
       "      <td>francisfordcoppola</td>\n",
       "      <td>marlonbrando alpacino jamescaan richardscastel...</td>\n",
       "      <td>age patriarch organ crime dynasti transfer con...</td>\n",
       "    </tr>\n",
       "    <tr>\n",
       "      <th>The Godfather: Part II</th>\n",
       "      <td>crime drama</td>\n",
       "      <td>francisfordcoppola</td>\n",
       "      <td>alpacino robertduvall dianekeaton robertdeniro</td>\n",
       "      <td>earli life career vito corleon 1920s new york ...</td>\n",
       "    </tr>\n",
       "    <tr>\n",
       "      <th>The Dark Knight</th>\n",
       "      <td>action crime drama</td>\n",
       "      <td>christophernolan</td>\n",
       "      <td>christianbale heathledger aaroneckhart michael...</td>\n",
       "      <td>menac known joker emerg mysteri past wreak hav...</td>\n",
       "    </tr>\n",
       "    <tr>\n",
       "      <th>12 Angry Men</th>\n",
       "      <td>crime drama</td>\n",
       "      <td>sidneylumet</td>\n",
       "      <td>martinbalsam johnfiedler leejcobb egmarshall</td>\n",
       "      <td>juri holdout attempt prevent miscarriag justic...</td>\n",
       "    </tr>\n",
       "  </tbody>\n",
       "</table>\n",
       "</div>"
      ],
      "text/plain": [
       "                                       Genre            Director  \\\n",
       "Title                                                              \n",
       "The Shawshank Redemption         crime drama       frankdarabont   \n",
       "The Godfather                    crime drama  francisfordcoppola   \n",
       "The Godfather: Part II           crime drama  francisfordcoppola   \n",
       "The Dark Knight           action crime drama    christophernolan   \n",
       "12 Angry Men                     crime drama         sidneylumet   \n",
       "\n",
       "                                                                     Actors  \\\n",
       "Title                                                                         \n",
       "The Shawshank Redemption   timrobbins morganfreeman bobgunton williamsadler   \n",
       "The Godfather             marlonbrando alpacino jamescaan richardscastel...   \n",
       "The Godfather: Part II       alpacino robertduvall dianekeaton robertdeniro   \n",
       "The Dark Knight           christianbale heathledger aaroneckhart michael...   \n",
       "12 Angry Men                   martinbalsam johnfiedler leejcobb egmarshall   \n",
       "\n",
       "                                                              Keywords_Plot  \n",
       "Title                                                                        \n",
       "The Shawshank Redemption  two imprison men bond number year find solac e...  \n",
       "The Godfather             age patriarch organ crime dynasti transfer con...  \n",
       "The Godfather: Part II    earli life career vito corleon 1920s new york ...  \n",
       "The Dark Knight           menac known joker emerg mysteri past wreak hav...  \n",
       "12 Angry Men              juri holdout attempt prevent miscarriag justic...  "
      ]
     },
     "execution_count": 776,
     "metadata": {},
     "output_type": "execute_result"
    }
   ],
   "source": [
    "netflixData.set_index('Title', inplace=True)\n",
    "netflixData.head()"
   ]
  },
  {
   "cell_type": "code",
   "execution_count": 777,
   "metadata": {},
   "outputs": [
    {
     "data": {
      "text/html": [
       "<div>\n",
       "<style scoped>\n",
       "    .dataframe tbody tr th:only-of-type {\n",
       "        vertical-align: middle;\n",
       "    }\n",
       "\n",
       "    .dataframe tbody tr th {\n",
       "        vertical-align: top;\n",
       "    }\n",
       "\n",
       "    .dataframe thead th {\n",
       "        text-align: right;\n",
       "    }\n",
       "</style>\n",
       "<table border=\"1\" class=\"dataframe\">\n",
       "  <thead>\n",
       "    <tr style=\"text-align: right;\">\n",
       "      <th></th>\n",
       "      <th>Bag_of_words</th>\n",
       "    </tr>\n",
       "    <tr>\n",
       "      <th>Title</th>\n",
       "      <th></th>\n",
       "    </tr>\n",
       "  </thead>\n",
       "  <tbody>\n",
       "    <tr>\n",
       "      <th>The Shawshank Redemption</th>\n",
       "      <td>crime drama frankdarabont timrobbins morganfre...</td>\n",
       "    </tr>\n",
       "    <tr>\n",
       "      <th>The Godfather</th>\n",
       "      <td>crime drama francisfordcoppola marlonbrando al...</td>\n",
       "    </tr>\n",
       "    <tr>\n",
       "      <th>The Godfather: Part II</th>\n",
       "      <td>crime drama francisfordcoppola alpacino robert...</td>\n",
       "    </tr>\n",
       "    <tr>\n",
       "      <th>The Dark Knight</th>\n",
       "      <td>action crime drama christophernolan christianb...</td>\n",
       "    </tr>\n",
       "    <tr>\n",
       "      <th>12 Angry Men</th>\n",
       "      <td>crime drama sidneylumet martinbalsam johnfiedl...</td>\n",
       "    </tr>\n",
       "  </tbody>\n",
       "</table>\n",
       "</div>"
      ],
      "text/plain": [
       "                                                               Bag_of_words\n",
       "Title                                                                      \n",
       "The Shawshank Redemption  crime drama frankdarabont timrobbins morganfre...\n",
       "The Godfather             crime drama francisfordcoppola marlonbrando al...\n",
       "The Godfather: Part II    crime drama francisfordcoppola alpacino robert...\n",
       "The Dark Knight           action crime drama christophernolan christianb...\n",
       "12 Angry Men              crime drama sidneylumet martinbalsam johnfiedl..."
      ]
     },
     "execution_count": 777,
     "metadata": {},
     "output_type": "execute_result"
    }
   ],
   "source": [
    "netflixData['Bag_of_words'] = netflixData.apply(lambda x: ' '.join(x.astype(str)), axis=1)\n",
    "netflixData.drop(columns = [col for col in netflixData.columns if col!= 'Bag_of_words'], inplace = True)\n",
    "\n",
    "netflixData.head()"
   ]
  },
  {
   "attachments": {},
   "cell_type": "markdown",
   "metadata": {},
   "source": [
    "## Creating the recommender"
   ]
  },
  {
   "attachments": {},
   "cell_type": "markdown",
   "metadata": {},
   "source": [
    "### 1. Compute TF-IDF matrix"
   ]
  },
  {
   "cell_type": "code",
   "execution_count": 778,
   "metadata": {},
   "outputs": [],
   "source": [
    "tfidf_vectorizer = TfidfVectorizer()\n",
    "tfidf_matrix = tfidf_vectorizer.fit_transform(netflixData['Bag_of_words'])"
   ]
  },
  {
   "attachments": {},
   "cell_type": "markdown",
   "metadata": {},
   "source": [
    "### 2. Compute pairwise similarity (cosine similarity as an example)"
   ]
  },
  {
   "cell_type": "code",
   "execution_count": 779,
   "metadata": {},
   "outputs": [],
   "source": [
    "cosine_similarities = cosine_similarity(tfidf_matrix)"
   ]
  },
  {
   "cell_type": "code",
   "execution_count": 780,
   "metadata": {},
   "outputs": [
    {
     "data": {
      "text/plain": [
       "array([[1.        , 0.02867054, 0.02528571, ..., 0.00375638, 0.00393635,\n",
       "        0.00360676],\n",
       "       [0.02867054, 1.        , 0.18356229, ..., 0.00402013, 0.00421274,\n",
       "        0.00386001],\n",
       "       [0.02528571, 0.18356229, 1.        , ..., 0.00354552, 0.00371539,\n",
       "        0.0034043 ],\n",
       "       ...,\n",
       "       [0.00375638, 0.00402013, 0.00354552, ..., 1.        , 0.00395914,\n",
       "        0.00362764],\n",
       "       [0.00393635, 0.00421274, 0.00371539, ..., 0.00395914, 1.        ,\n",
       "        0.00380145],\n",
       "       [0.00360676, 0.00386001, 0.0034043 , ..., 0.00362764, 0.00380145,\n",
       "        1.        ]])"
      ]
     },
     "execution_count": 780,
     "metadata": {},
     "output_type": "execute_result"
    }
   ],
   "source": [
    "cosine_similarities"
   ]
  },
  {
   "cell_type": "code",
   "execution_count": 781,
   "metadata": {},
   "outputs": [
    {
     "data": {
      "text/html": [
       "<style>#sk-container-id-34 {color: black;background-color: white;}#sk-container-id-34 pre{padding: 0;}#sk-container-id-34 div.sk-toggleable {background-color: white;}#sk-container-id-34 label.sk-toggleable__label {cursor: pointer;display: block;width: 100%;margin-bottom: 0;padding: 0.3em;box-sizing: border-box;text-align: center;}#sk-container-id-34 label.sk-toggleable__label-arrow:before {content: \"▸\";float: left;margin-right: 0.25em;color: #696969;}#sk-container-id-34 label.sk-toggleable__label-arrow:hover:before {color: black;}#sk-container-id-34 div.sk-estimator:hover label.sk-toggleable__label-arrow:before {color: black;}#sk-container-id-34 div.sk-toggleable__content {max-height: 0;max-width: 0;overflow: hidden;text-align: left;background-color: #f0f8ff;}#sk-container-id-34 div.sk-toggleable__content pre {margin: 0.2em;color: black;border-radius: 0.25em;background-color: #f0f8ff;}#sk-container-id-34 input.sk-toggleable__control:checked~div.sk-toggleable__content {max-height: 200px;max-width: 100%;overflow: auto;}#sk-container-id-34 input.sk-toggleable__control:checked~label.sk-toggleable__label-arrow:before {content: \"▾\";}#sk-container-id-34 div.sk-estimator input.sk-toggleable__control:checked~label.sk-toggleable__label {background-color: #d4ebff;}#sk-container-id-34 div.sk-label input.sk-toggleable__control:checked~label.sk-toggleable__label {background-color: #d4ebff;}#sk-container-id-34 input.sk-hidden--visually {border: 0;clip: rect(1px 1px 1px 1px);clip: rect(1px, 1px, 1px, 1px);height: 1px;margin: -1px;overflow: hidden;padding: 0;position: absolute;width: 1px;}#sk-container-id-34 div.sk-estimator {font-family: monospace;background-color: #f0f8ff;border: 1px dotted black;border-radius: 0.25em;box-sizing: border-box;margin-bottom: 0.5em;}#sk-container-id-34 div.sk-estimator:hover {background-color: #d4ebff;}#sk-container-id-34 div.sk-parallel-item::after {content: \"\";width: 100%;border-bottom: 1px solid gray;flex-grow: 1;}#sk-container-id-34 div.sk-label:hover label.sk-toggleable__label {background-color: #d4ebff;}#sk-container-id-34 div.sk-serial::before {content: \"\";position: absolute;border-left: 1px solid gray;box-sizing: border-box;top: 0;bottom: 0;left: 50%;z-index: 0;}#sk-container-id-34 div.sk-serial {display: flex;flex-direction: column;align-items: center;background-color: white;padding-right: 0.2em;padding-left: 0.2em;position: relative;}#sk-container-id-34 div.sk-item {position: relative;z-index: 1;}#sk-container-id-34 div.sk-parallel {display: flex;align-items: stretch;justify-content: center;background-color: white;position: relative;}#sk-container-id-34 div.sk-item::before, #sk-container-id-34 div.sk-parallel-item::before {content: \"\";position: absolute;border-left: 1px solid gray;box-sizing: border-box;top: 0;bottom: 0;left: 50%;z-index: -1;}#sk-container-id-34 div.sk-parallel-item {display: flex;flex-direction: column;z-index: 1;position: relative;background-color: white;}#sk-container-id-34 div.sk-parallel-item:first-child::after {align-self: flex-end;width: 50%;}#sk-container-id-34 div.sk-parallel-item:last-child::after {align-self: flex-start;width: 50%;}#sk-container-id-34 div.sk-parallel-item:only-child::after {width: 0;}#sk-container-id-34 div.sk-dashed-wrapped {border: 1px dashed gray;margin: 0 0.4em 0.5em 0.4em;box-sizing: border-box;padding-bottom: 0.4em;background-color: white;}#sk-container-id-34 div.sk-label label {font-family: monospace;font-weight: bold;display: inline-block;line-height: 1.2em;}#sk-container-id-34 div.sk-label-container {text-align: center;}#sk-container-id-34 div.sk-container {/* jupyter's `normalize.less` sets `[hidden] { display: none; }` but bootstrap.min.css set `[hidden] { display: none !important; }` so we also need the `!important` here to be able to override the default hidden behavior on the sphinx rendered scikit-learn.org. See: https://github.com/scikit-learn/scikit-learn/issues/21755 */display: inline-block !important;position: relative;}#sk-container-id-34 div.sk-text-repr-fallback {display: none;}</style><div id=\"sk-container-id-34\" class=\"sk-top-container\"><div class=\"sk-text-repr-fallback\"><pre>NearestNeighbors(algorithm=&#x27;brute&#x27;, metric=&#x27;cosine&#x27;, n_jobs=-1)</pre><b>In a Jupyter environment, please rerun this cell to show the HTML representation or trust the notebook. <br />On GitHub, the HTML representation is unable to render, please try loading this page with nbviewer.org.</b></div><div class=\"sk-container\" hidden><div class=\"sk-item\"><div class=\"sk-estimator sk-toggleable\"><input class=\"sk-toggleable__control sk-hidden--visually\" id=\"sk-estimator-id-34\" type=\"checkbox\" checked><label for=\"sk-estimator-id-34\" class=\"sk-toggleable__label sk-toggleable__label-arrow\">NearestNeighbors</label><div class=\"sk-toggleable__content\"><pre>NearestNeighbors(algorithm=&#x27;brute&#x27;, metric=&#x27;cosine&#x27;, n_jobs=-1)</pre></div></div></div></div></div>"
      ],
      "text/plain": [
       "NearestNeighbors(algorithm='brute', metric='cosine', n_jobs=-1)"
      ]
     },
     "execution_count": 781,
     "metadata": {},
     "output_type": "execute_result"
    }
   ],
   "source": [
    "# Using metric='cosine' is same as using cosine similarity\n",
    "model_knn = NearestNeighbors( algorithm='auto', metric='cosine', n_jobs=-1)\n",
    "model_knn.fit(tfidf_matrix)"
   ]
  },
  {
   "attachments": {},
   "cell_type": "markdown",
   "metadata": {},
   "source": [
    "### 3. Generate recommendations"
   ]
  },
  {
   "cell_type": "code",
   "execution_count": 782,
   "metadata": {},
   "outputs": [],
   "source": [
    "def get_recommendations(title, model, data, k=10):\n",
    "    idx = data.index.get_loc(title)\n",
    "    dist, indices = model.kneighbors(tfidf_matrix[idx], n_neighbors=k+1)\n",
    "    recommended_movie_titles = [data.iloc[i].name for i in indices.flatten() if i != idx]\n",
    "    return recommended_movie_titles"
   ]
  },
  {
   "cell_type": "code",
   "execution_count": 783,
   "metadata": {},
   "outputs": [
    {
     "name": "stdout",
     "output_type": "stream",
     "text": [
      "[[0.         0.81643771 0.89797027 0.90973238 0.91756473 0.93010623\n",
      "  0.93138775 0.93359952 0.93360037 0.93616752 0.94187685]]\n"
     ]
    },
    {
     "data": {
      "text/plain": [
       "['The Godfather: Part II',\n",
       " 'Apocalypse Now',\n",
       " 'On the Waterfront',\n",
       " 'Scarface',\n",
       " 'Heat',\n",
       " 'Casino',\n",
       " 'Léon: The Professional',\n",
       " 'The Night of the Hunter',\n",
       " 'Dogville',\n",
       " 'Guardians of the Galaxy']"
      ]
     },
     "execution_count": 783,
     "metadata": {},
     "output_type": "execute_result"
    }
   ],
   "source": [
    "recommendations = get_recommendations('The Godfather', model_knn, netflixData, 10)\n",
    "recommendations"
   ]
  },
  {
   "attachments": {},
   "cell_type": "markdown",
   "metadata": {},
   "source": [
    "### 4. Fine-tuning the recommender"
   ]
  },
  {
   "attachments": {},
   "cell_type": "markdown",
   "metadata": {},
   "source": [
    "#### Using Stemming and Lemmatization to reduce words to its base form"
   ]
  }
 ],
 "metadata": {
  "kernelspec": {
   "display_name": "Python 3",
   "language": "python",
   "name": "python3"
  },
  "language_info": {
   "codemirror_mode": {
    "name": "ipython",
    "version": 3
   },
   "file_extension": ".py",
   "mimetype": "text/x-python",
   "name": "python",
   "nbconvert_exporter": "python",
   "pygments_lexer": "ipython3",
   "version": "3.10.8"
  },
  "orig_nbformat": 4,
  "vscode": {
   "interpreter": {
    "hash": "af942d80d6a9068e6b7c5c2aa4030039cc9499dca1a670cf1a5eab6c4f18e521"
   }
  }
 },
 "nbformat": 4,
 "nbformat_minor": 2
}
